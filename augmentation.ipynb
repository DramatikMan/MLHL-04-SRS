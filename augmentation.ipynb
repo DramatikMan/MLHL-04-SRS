{
 "cells": [
  {
   "cell_type": "code",
   "execution_count": 2,
   "id": "659e87cf",
   "metadata": {},
   "outputs": [],
   "source": [
    "import Augmentor\n"
   ]
  },
  {
   "cell_type": "code",
   "execution_count": 7,
   "id": "19a7e18f",
   "metadata": {},
   "outputs": [
    {
     "name": "stdout",
     "output_type": "stream",
     "text": [
      "Initialised with 102 image(s) found.\n",
      "Output directory set to archive/pics/output."
     ]
    }
   ],
   "source": [
    "p = Augmentor.Pipeline(f\"archive/pics/\")\n",
    "\n",
    "p.rotate(probability=0.5, max_left_rotation=8, max_right_rotation=8)\n",
    "p.zoom(probability=0.5, min_factor=0.8, max_factor=1.01)\n",
    "#p.skew_corner(probability=0.1)\n",
    "p.random_distortion(probability=0.7,grid_width=6,grid_height=6,magnitude=1)\n",
    "p.flip_left_right(probability=0.5)"
   ]
  },
  {
   "cell_type": "code",
   "execution_count": 8,
   "id": "48e7d25e",
   "metadata": {},
   "outputs": [
    {
     "name": "stderr",
     "output_type": "stream",
     "text": [
      "Processing <PIL.Image.Image image mode=RGBA size=75x75 at 0x7F87EC2AD370>: 100%|█| 3000/3000 [00:10<00:00, 273.18 S\n"
     ]
    }
   ],
   "source": [
    "p.sample(3000, multi_threaded=True)"
   ]
  },
  {
   "cell_type": "code",
   "execution_count": 17,
   "id": "cb7732b8",
   "metadata": {},
   "outputs": [],
   "source": []
  },
  {
   "cell_type": "code",
   "execution_count": 20,
   "id": "a05cc3ed",
   "metadata": {},
   "outputs": [],
   "source": []
  },
  {
   "cell_type": "code",
   "execution_count": null,
   "id": "109ad566",
   "metadata": {},
   "outputs": [],
   "source": []
  }
 ],
 "metadata": {
  "kernelspec": {
   "display_name": "Python 3 (ipykernel)",
   "language": "python",
   "name": "python3"
  },
  "language_info": {
   "codemirror_mode": {
    "name": "ipython",
    "version": 3
   },
   "file_extension": ".py",
   "mimetype": "text/x-python",
   "name": "python",
   "nbconvert_exporter": "python",
   "pygments_lexer": "ipython3",
   "version": "3.8.10"
  }
 },
 "nbformat": 4,
 "nbformat_minor": 5
}
